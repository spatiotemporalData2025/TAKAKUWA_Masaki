{
 "cells": [
  {
   "cell_type": "markdown",
   "metadata": {},
   "source": [
    "# Heavy-Hitter Streaming: Algorithms 3.1 / 3.2 / 3.3 — Implementations & Demos\n",
    "\n",
    "擬似コードを Python 実装し、**同一データ**で挙動差を比較する。\n",
    "\n",
    "- Algorithm 3.1 = Misra–Gries（k-1 カウンタ）\n",
    "- Algorithm 3.2 = Lossy Counting（Δ=⌊n/k⌋、バケット境界で一括削除）\n",
    "- Algorithm 3.3 = SpaceSaving（最小カウンタ置換、常に k 個保持）\n"
   ]
  },
  {
   "cell_type": "markdown",
   "metadata": {},
   "source": [
    "## Implementations"
   ]
  },
  {
   "cell_type": "code",
   "execution_count": null,
   "metadata": {},
   "outputs": [],
   "source": [
    "from typing import Dict, Iterable, List, Tuple, Any\n",
    "\n",
    "def top_k_from_counts(counts: Dict[Any, int], k: int) -> List[Tuple[Any, int]]:\n",
    "    return sorted(counts.items(), key=lambda x: (-x[1], x[0]))[:k]\n",
    "\n",
    "class MisraGries:\n",
    "    def __init__(self, k: int):\n",
    "        assert k >= 2\n",
    "        self.k = k\n",
    "        self.n = 0\n",
    "        self.T: Dict[Any, int] = {}\n",
    "    def update(self, item: Any):\n",
    "        self.n += 1\n",
    "        if item in self.T:\n",
    "            self.T[item] += 1\n",
    "            return\n",
    "        if len(self.T) < self.k - 1:\n",
    "            self.T[item] = 1\n",
    "            return\n",
    "        to_del = []\n",
    "        for j in list(self.T.keys()):\n",
    "            self.T[j] -= 1\n",
    "            if self.T[j] == 0:\n",
    "                to_del.append(j)\n",
    "        for j in to_del:\n",
    "            del self.T[j]\n",
    "    def consume(self, stream: Iterable[Any]):\n",
    "        for x in stream:\n",
    "            self.update(x)\n",
    "        return self\n",
    "    def candidates(self) -> Dict[Any, int]:\n",
    "        return dict(self.T)\n",
    "    def topk(self, k: int | None = None) -> List[Tuple[Any, int]]:\n",
    "        return top_k_from_counts(self.T, k or len(self.T))\n",
    "\n",
    "class LossyCounting:\n",
    "    def __init__(self, k: int):\n",
    "        assert k >= 2\n",
    "        self.k = k\n",
    "        self.n = 0\n",
    "        self.delta = 0\n",
    "        self.T: Dict[Any, int] = {}\n",
    "    def _maybe_prune(self):\n",
    "        new_delta = self.n // self.k\n",
    "        if new_delta != self.delta:\n",
    "            self.delta = new_delta\n",
    "            for j, c in list(self.T.items()):\n",
    "                if c < self.delta:\n",
    "                    del self.T[j]\n",
    "    def update(self, item: Any):\n",
    "        self.n += 1\n",
    "        if item in self.T:\n",
    "            self.T[item] += 1\n",
    "        else:\n",
    "            self.T[item] = 1 + self.delta\n",
    "        self._maybe_prune()\n",
    "    def consume(self, stream: Iterable[Any]):\n",
    "        for x in stream:\n",
    "            self.update(x)\n",
    "        return self\n",
    "    def candidates(self) -> Dict[Any, int]:\n",
    "        return dict(self.T)\n",
    "    def topk(self, k: int | None = None) -> List[Tuple[Any, int]]:\n",
    "        return top_k_from_counts(self.T, k or len(self.T))\n",
    "\n",
    "class SpaceSaving:\n",
    "    def __init__(self, k: int):\n",
    "        assert k >= 1\n",
    "        self.k = k\n",
    "        self.n = 0\n",
    "        self.T: Dict[Any, int] = {}\n",
    "    def update(self, item: Any):\n",
    "        self.n += 1\n",
    "        if item in self.T:\n",
    "            self.T[item] += 1\n",
    "            return\n",
    "        if len(self.T) < self.k:\n",
    "            self.T[item] = 1\n",
    "            return\n",
    "        j, cj = min(self.T.items(), key=lambda x: x[1])\n",
    "        del self.T[j]\n",
    "        self.T[item] = cj + 1\n",
    "    def consume(self, stream: Iterable[Any]):\n",
    "        for x in stream:\n",
    "            self.update(x)\n",
    "        return self\n",
    "    def candidates(self) -> Dict[Any, int]:\n",
    "        return dict(self.T)\n",
    "    def topk(self, k: int | None = None) -> List[Tuple[Any, int]]:\n",
    "        return top_k_from_counts(self.T, k or len(self.T))"
   ]
  },
  {
   "cell_type": "markdown",
   "metadata": {},
   "source": [
    "## Evaluation helpers"
   ]
  },
  {
   "cell_type": "code",
   "execution_count": null,
   "metadata": {},
   "outputs": [],
   "source": [
    "from collections import Counter\n",
    "import pandas as pd\n",
    "\n",
    "def run_all(stream, k=5):\n",
    "    mg = MisraGries(k).consume(stream)\n",
    "    lc = LossyCounting(k).consume(stream)\n",
    "    ss = SpaceSaving(k).consume(stream)\n",
    "    truth = Counter(stream)\n",
    "    return mg, lc, ss, truth\n",
    "\n",
    "def compare(mg, lc, ss, truth, k_show=10):\n",
    "    rows = []\n",
    "    algos = [('MG', mg.candidates()), ('LC', lc.candidates()), ('SS', ss.candidates())]\n",
    "    keys = set()\n",
    "    for _, d in algos:\n",
    "        keys |= set(d.keys())\n",
    "    keys |= set([x for x,_ in truth.most_common(k_show)])\n",
    "    for key in keys:\n",
    "        t = truth.get(key, 0)\n",
    "        rows.append({\n",
    "            'item': key,\n",
    "            'truth': t,\n",
    "            'MG': mg.candidates().get(key, 0),\n",
    "            'LC': lc.candidates().get(key, 0),\n",
    "            'SS': ss.candidates().get(key, 0),\n",
    "            'abs_err_MG': abs(mg.candidates().get(key, 0) - t),\n",
    "            'abs_err_LC': abs(lc.candidates().get(key, 0) - t),\n",
    "            'abs_err_SS': abs(ss.candidates().get(key, 0) - t),\n",
    "        })\n",
    "    df = pd.DataFrame(rows)\n",
    "    df = df.sort_values('truth', ascending=False).head(k_show)\n",
    "    return df\n"
   ]
  },
  {
   "cell_type": "markdown",
   "metadata": {},
   "source": [
    "## Demo 1 — 合成ストリーム（heavy を混ぜた一般ケース）\n",
    "A, B を heavy にし、そのほかは中小頻度。k=5。3 アルゴリズムを同一ストリームで比較。"
   ]
  },
  {
   "cell_type": "code",
   "execution_count": null,
   "metadata": {},
   "outputs": [],
   "source": [
    "import random\n",
    "random.seed(1)\n",
    "stream = ['A']*120 + ['B']*90 + ['C']*40 + ['D']*35 + ['E']*30 + ['F']*20\n",
    "random.shuffle(stream)\n",
    "\n",
    "mg, lc, ss, truth = run_all(stream, k=5)\n",
    "print('n =', len(stream))\n",
    "print('MG top:', mg.topk(5))\n",
    "print('LC top:', lc.topk(5))\n",
    "print('SS top:', ss.topk(5))\n",
    "compare(mg, lc, ss, truth, k_show=10)"
   ]
  },
  {
   "cell_type": "markdown",
   "metadata": {},
   "source": [
    "## Demo 2 — Zipf っぽい分布\n",
    "長めのストリームで長尾。k=10。"
   ]
  },
  {
   "cell_type": "code",
   "execution_count": null,
   "metadata": {},
   "outputs": [],
   "source": [
    "random.seed(2)\n",
    "items = [chr(ord('A')+i) for i in range(20)]\n",
    "weights = [1/(i+1) for i in range(20)]\n",
    "total = sum(weights)\n",
    "probs = [w/total for w in weights]\n",
    "stream = random.choices(items, probs, k=2000)\n",
    "\n",
    "mg, lc, ss, truth = run_all(stream, k=10)\n",
    "print('n =', len(stream))\n",
    "print('MG top:', mg.topk(10))\n",
    "print('LC top:', lc.topk(10))\n",
    "print('SS top:', ss.topk(10))\n",
    "compare(mg, lc, ss, truth, k_show=15)"
   ]
  },
  {
   "cell_type": "markdown",
   "metadata": {},
   "source": [
    "## Demo 3 — 交互出現（最小カウンタ置換の有利さ）\n",
    "大量のレア要素 R_i と heavy H を交互に挿入。k=20。SpaceSaving が強いパターン。"
   ]
  },
  {
   "cell_type": "code",
   "execution_count": null,
   "metadata": {},
   "outputs": [],
   "source": [
    "rare = [f'R{i}' for i in range(1000)]\n",
    "stream = []\n",
    "for r in rare:\n",
    "    stream += ['H', r]  # H が 1/2 を占める\n",
    "\n",
    "mg, lc, ss, truth = run_all(stream, k=20)\n",
    "print('n =', len(stream))\n",
    "print('MG top:', mg.topk(5))\n",
    "print('LC top:', lc.topk(5))\n",
    "print('SS top:', ss.topk(5))\n",
    "compare(mg, lc, ss, truth, k_show=10)"
   ]
  },
  {
   "cell_type": "markdown",
   "metadata": {},
   "source": [
    "## Notes\n",
    "- Misra–Gries は全体デクリメントで候補がリセット気味になるが、理論誤差は ⌊n/k⌋ に抑えられる。\n",
    "- Lossy Counting はバケットごとに遅延削除。データスパース時に有利。\n",
    "- SpaceSaving は常に k 個保持し最小置換。交互パターンや多種類ノイズに強く、heavy の追跡が頑健。"
   ]
  }
 ],
 "metadata": {
  "kernelspec": {
   "display_name": "Python 3",
   "language": "python",
   "name": "python3"
  },
  "language_info": {
   "name": "python",
   "version": "3.x"
  }
 },
 "nbformat": 4,
 "nbformat_minor": 5
}
