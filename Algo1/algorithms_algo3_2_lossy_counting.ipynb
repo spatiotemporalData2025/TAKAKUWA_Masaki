{
 "cells": [
  {
   "cell_type": "markdown",
   "id": "8ed09e0d",
   "metadata": {},
   "source": [
    "# Lossy Counting (Algorithm 3.2)\n",
    "\n",
    "目的: ストリームをバケットに分割し、各要素に誤差境界 `Δ = ⌊ n/k ⌋` を付与して頻出候補を維持。\n",
    "\n",
    "処理概要:\n",
    "- 新規要素 `i` を観測したら `c[i] = 1 + Δ` として登録\n",
    "- 各アイテム処理後に `Δ` が変わったバケット境界で、 `c[j] < Δ` の要素を一括削除\n",
    "\n",
    "性質: 誤差は高々 `n/k`。MGより実装が容易で、周期的なクレンジングで高速。\n"
   ]
  },
  {
   "cell_type": "code",
   "execution_count": null,
   "id": "c17f552b",
   "metadata": {},
   "outputs": [],
   "source": [
    "\n",
    "from collections import defaultdict, Counter\n",
    "import math\n",
    "\n",
    "def lossy_counting(stream, k):\n",
    "    T = {}   # element -> count (with offset)\n",
    "    n = 0\n",
    "    Delta = 0 # floor(n/k)\n",
    "    for i in stream:\n",
    "        n += 1\n",
    "        if i in T:\n",
    "            T[i] += 1\n",
    "        else:\n",
    "            T[i] = 1 + Delta\n",
    "        if (n // k) != Delta:\n",
    "            Delta = n // k\n",
    "            # prune\n",
    "            to_del = [j for j, c in T.items() if c < Delta]\n",
    "            for j in to_del:\n",
    "                del T[j]\n",
    "    return T, n, Delta\n",
    "\n",
    "# demo\n",
    "import pandas as pd\n",
    "df = pd.read_csv(\"/mnt/data/Brighton v Man City LIVE Watchalong!_chat_log.csv\", encoding=\"utf-8\", engine=\"python\")\n",
    "stream = df[\"author\"].astype(str).tolist()\n",
    "k = 20\n",
    "T, n, Delta = lossy_counting(stream, k)\n",
    "\n",
    "true = Counter(stream)\n",
    "cands = {u: true[u] for u in T.keys()}\n",
    "print(\"n=\", n, \"Delta=\", Delta, \"candidates=\", len(T))\n",
    "print(sorted([(u, T[u], cands[u]) for u in T], key=lambda t: -cands[t[0]])[:20])\n",
    "print(\"\\\\nTop-20 ground truth:\")\n",
    "print(true.most_common(20))\n"
   ]
  }
 ],
 "metadata": {},
 "nbformat": 4,
 "nbformat_minor": 5
}
