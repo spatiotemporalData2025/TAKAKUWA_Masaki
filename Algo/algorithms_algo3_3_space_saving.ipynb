{
 "cells": [
  {
   "cell_type": "markdown",
   "id": "1717e9ff",
   "metadata": {},
   "source": [
    "# Space-Saving (Algorithm 3.3)\n",
    "\n",
    "目的: 常に `k` 個のカウンタで頻出要素を追跡。最小カウンタの要素を新規要素で置換し、カウントは `min+1`。\n",
    "\n",
    "処理:\n",
    "1. 既存なら +1  \n",
    "2. 空きがあれば新規で1  \n",
    "3. それ以外では、最小カウンタ `j` を見つけ、 `c[i] = c[j] + 1` として `i` で置換\n",
    "\n",
    "性質: トップ頻出に鋭い。MGより高精度なことが多い。\n"
   ]
  },
  {
   "cell_type": "code",
   "execution_count": null,
   "id": "0d887265",
   "metadata": {},
   "outputs": [],
   "source": [
    "\n",
    "from collections import Counter\n",
    "\n",
    "def space_saving(stream, k):\n",
    "    T = {}          # element -> (count)\n",
    "    n = 0\n",
    "    for i in stream:\n",
    "        n += 1\n",
    "        if i in T:\n",
    "            T[i] += 1\n",
    "        elif len(T) < k:\n",
    "            T[i] = 1\n",
    "        else:\n",
    "            # find key with minimum count\n",
    "            j = min(T, key=T.get)\n",
    "            minc = T[j]\n",
    "            # replace\n",
    "            del T[j]\n",
    "            T[i] = minc + 1\n",
    "    return T, n\n",
    "\n",
    "# demo\n",
    "import pandas as pd\n",
    "df = pd.read_csv(\"/mnt/data/Brighton v Man City LIVE Watchalong!_chat_log.csv\", encoding=\"utf-8\", engine=\"python\")\n",
    "stream = df[\"author\"].astype(str).tolist()\n",
    "k = 20\n",
    "T, n = space_saving(stream, k)\n",
    "\n",
    "true = Counter(stream)\n",
    "cands = {u: true[u] for u in T}\n",
    "print(\"n=\", n, \"candidates=\", len(T))\n",
    "print(sorted([(u, T[u], cands[u]) for u in T], key=lambda t: -cands[t[0]])[:20])\n",
    "print(\"\\\\nTop-20 ground truth:\")\n",
    "print(true.most_common(20))\n"
   ]
  }
 ],
 "metadata": {},
 "nbformat": 4,
 "nbformat_minor": 5
}
